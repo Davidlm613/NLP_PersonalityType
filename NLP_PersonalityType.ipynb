{
  "nbformat": 4,
  "nbformat_minor": 0,
  "metadata": {
    "colab": {
      "name": "NLP_PersonalityType.ipynb",
      "provenance": [],
      "collapsed_sections": [],
      "toc_visible": true,
      "include_colab_link": true
    },
    "kernelspec": {
      "display_name": "Python 3",
      "name": "python3"
    },
    "language_info": {
      "name": "python"
    }
  },
  "cells": [
    {
      "cell_type": "markdown",
      "metadata": {
        "id": "view-in-github",
        "colab_type": "text"
      },
      "source": [
        "<a href=\"https://colab.research.google.com/github/Davidlm613/capstone/blob/main/NLP_PersonalityType.ipynb\" target=\"_parent\"><img src=\"https://colab.research.google.com/assets/colab-badge.svg\" alt=\"Open In Colab\"/></a>"
      ]
    },
    {
      "cell_type": "markdown",
      "metadata": {
        "id": "FVxdHr1z6HBv"
      },
      "source": [
        "# **Use Natural Language Processing to Predict Myers Briggs Personality Types**\n",
        "\n"
      ]
    },
    {
      "cell_type": "markdown",
      "metadata": {
        "id": "LCSQhBue6gI2"
      },
      "source": [
        "---\n",
        "\n",
        "By David Maccornack & Lauren LoBue July 2021"
      ]
    },
    {
      "cell_type": "markdown",
      "metadata": {
        "id": "cTSModgFv4_I"
      },
      "source": [
        "# Problem Definition \n",
        "\n",
        "Can we train a computer model to identify somebody's personality type based on social media posts?\n",
        "\n",
        "This analysis aims to use several artificial intelligence and machine learning models to teach a model to identify and distinguish the 16 different Myers-Briggs personality types. Additional information on the personality types can be found here: [Types](https://www.myersbriggs.org/my-mbti-personality-type/mbti-basics/the-16-mbti-types.htm)\n",
        "\n",
        "This is a supervised multiclass, classification machine learning analysis using Natural Language Processing (NLP) for preprocessing steps, followed by Naive Bayes and XGBoost for categorical predictions and model refining. \n",
        "\n",
        "We are using a 'free' level of Google Colab, we tried running a GPU and got marginal improvemnt on the run time of the XGBoost model.  But it may have been causing some issues with running the XGBoost cell, it could have been causing a failure to relaunch the runtime.  "
      ]
    },
    {
      "cell_type": "markdown",
      "metadata": {
        "id": "RxaUAcqDxl02"
      },
      "source": [
        "# Data Collection\n",
        "\n",
        "The Myers Briggs Type Indicator (MBTI) training data was provided by Daria Hlibova on GitHub and contains over 8,600 rows of information to identify the personality types. [GitHub](https://github.com/dashascience/-MBTI-Myers-Briggs-Personality-Type-Dataset) \n",
        "\n",
        "The MBTI dataset divides each entry or person into 16 distinct personality types across 4 axis:\n",
        "\n",
        "*   Introversion (I)\n",
        "*   Extroversion (E)\n",
        "*   Intuition (N)\n",
        "*   Sensing (S)\n",
        "*   Thinking (T)\n",
        "*   Feeling (F)\n",
        "*   Judging (J)\n",
        "*   Perceiving (P)\n",
        "\n",
        "\n",
        "The data for this analysis was imported from Google Colab, Cohort 5. [CSV](https://drive.google.com/file/d/1oClia9vlMJaFyT2uokenqGn1D86czMRZ/view?usp=sharing)\n",
        "\n"
      ]
    },
    {
      "cell_type": "markdown",
      "metadata": {
        "id": "pjpOrcKcx4EC"
      },
      "source": [
        "## Imports \n",
        "\n",
        "Several traditional packages were imported for this analysis including: \n",
        "- Numpy\n",
        "- Pandas\n",
        "- Matplotlib\n",
        "- re (Regular Expression) \n",
        "\n",
        "Other specialized packages that were used include: \n",
        "\n",
        "From SKLearn\n",
        "- Naive_bayes: CategoricalNB \n",
        "- Feature_extraction: CountVectorizor, TfidfVectorizor, TfidfTransformer\n",
        "- Model_Selection: Train_Test_Split \n",
        "- Decision Tree Classifier\n",
        "\n",
        "From nltk (Natural Language ToolKit)\n",
        "- Corpus: Stopwords \n"
      ]
    },
    {
      "cell_type": "code",
      "metadata": {
        "id": "A5LqFFuT2oDh"
      },
      "source": [
        "# ignore warnings to keep analysis 'clean'\n",
        "import warnings\n",
        "warnings.filterwarnings('ignore')"
      ],
      "execution_count": null,
      "outputs": []
    },
    {
      "cell_type": "code",
      "metadata": {
        "id": "xSh5i55IvBIb"
      },
      "source": [
        "import pandas as pd\n",
        "import numpy as np\n",
        "import matplotlib.pyplot as plt\n",
        "import collections\n",
        "import re\n",
        "import string\n",
        "import nltk\n",
        "import sklearn.model_selection as model_selection\n",
        "import sklearn.model_selection as model_selection\n",
        "from sklearn import metrics\n",
        "from sklearn.naive_bayes import CategoricalNB\n",
        "from sklearn.metrics import classification_report\n",
        "from sklearn.feature_extraction.text import CountVectorizer\n",
        "from nltk.corpus import stopwords\n",
        "from sklearn.model_selection import cross_val_score\n",
        "from sklearn.naive_bayes import MultinomialNB\n",
        "from sklearn.feature_extraction.text import TfidfVectorizer\n",
        "from sklearn.feature_extraction.text import TfidfTransformer\n",
        "from sklearn import datasets\n",
        "from sklearn.tree import DecisionTreeRegressor\n",
        "from sklearn.metrics import accuracy_score\n",
        "from sklearn import metrics  \n",
        "from sklearn.model_selection import GridSearchCV"
      ],
      "execution_count": null,
      "outputs": []
    },
    {
      "cell_type": "markdown",
      "metadata": {
        "id": "lAbT7QhIyue5"
      },
      "source": [
        "## File Path\n",
        "\n",
        "CSV data from the following drive:"
      ]
    },
    {
      "cell_type": "code",
      "metadata": {
        "id": "cLVRtR9lzAvS",
        "colab": {
          "base_uri": "https://localhost:8080/"
        },
        "outputId": "92970fc5-d346-4d15-e163-da7f0778be2a"
      },
      "source": [
        "from google.colab import drive\n",
        "drive.mount('/drive')\n",
        "\n",
        "training_path = '/drive/My Drive/mbti_1.csv'"
      ],
      "execution_count": null,
      "outputs": [
        {
          "output_type": "stream",
          "text": [
            "Mounted at /drive\n"
          ],
          "name": "stdout"
        }
      ]
    },
    {
      "cell_type": "markdown",
      "metadata": {
        "id": "mb0OVL-czd29"
      },
      "source": [
        "## Load Data\n",
        "\n",
        "The data was successfully imported. Below one can see the first few rows and the basic format of how the dataset is set up. "
      ]
    },
    {
      "cell_type": "code",
      "metadata": {
        "id": "kVvxpEyNzivN",
        "colab": {
          "base_uri": "https://localhost:8080/",
          "height": 363
        },
        "outputId": "f6ba38e2-44d7-4514-a3d1-c4d8f43c469d"
      },
      "source": [
        "mb = pd.read_csv(training_path)  \n",
        "mb.head(10)"
      ],
      "execution_count": null,
      "outputs": [
        {
          "output_type": "execute_result",
          "data": {
            "text/html": [
              "<div>\n",
              "<style scoped>\n",
              "    .dataframe tbody tr th:only-of-type {\n",
              "        vertical-align: middle;\n",
              "    }\n",
              "\n",
              "    .dataframe tbody tr th {\n",
              "        vertical-align: top;\n",
              "    }\n",
              "\n",
              "    .dataframe thead th {\n",
              "        text-align: right;\n",
              "    }\n",
              "</style>\n",
              "<table border=\"1\" class=\"dataframe\">\n",
              "  <thead>\n",
              "    <tr style=\"text-align: right;\">\n",
              "      <th></th>\n",
              "      <th>type</th>\n",
              "      <th>posts</th>\n",
              "    </tr>\n",
              "  </thead>\n",
              "  <tbody>\n",
              "    <tr>\n",
              "      <th>0</th>\n",
              "      <td>INFJ</td>\n",
              "      <td>'http://www.youtube.com/watch?v=qsXHcwe3krw|||...</td>\n",
              "    </tr>\n",
              "    <tr>\n",
              "      <th>1</th>\n",
              "      <td>ENTP</td>\n",
              "      <td>'I'm finding the lack of me in these posts ver...</td>\n",
              "    </tr>\n",
              "    <tr>\n",
              "      <th>2</th>\n",
              "      <td>INTP</td>\n",
              "      <td>'Good one  _____   https://www.youtube.com/wat...</td>\n",
              "    </tr>\n",
              "    <tr>\n",
              "      <th>3</th>\n",
              "      <td>INTJ</td>\n",
              "      <td>'Dear INTP,   I enjoyed our conversation the o...</td>\n",
              "    </tr>\n",
              "    <tr>\n",
              "      <th>4</th>\n",
              "      <td>ENTJ</td>\n",
              "      <td>'You're fired.|||That's another silly misconce...</td>\n",
              "    </tr>\n",
              "    <tr>\n",
              "      <th>5</th>\n",
              "      <td>INTJ</td>\n",
              "      <td>'18/37 @.@|||Science  is not perfect. No scien...</td>\n",
              "    </tr>\n",
              "    <tr>\n",
              "      <th>6</th>\n",
              "      <td>INFJ</td>\n",
              "      <td>'No, I can't draw on my own nails (haha). Thos...</td>\n",
              "    </tr>\n",
              "    <tr>\n",
              "      <th>7</th>\n",
              "      <td>INTJ</td>\n",
              "      <td>'I tend to build up a collection of things on ...</td>\n",
              "    </tr>\n",
              "    <tr>\n",
              "      <th>8</th>\n",
              "      <td>INFJ</td>\n",
              "      <td>I'm not sure, that's a good question. The dist...</td>\n",
              "    </tr>\n",
              "    <tr>\n",
              "      <th>9</th>\n",
              "      <td>INTP</td>\n",
              "      <td>'https://www.youtube.com/watch?v=w8-egj0y8Qs||...</td>\n",
              "    </tr>\n",
              "  </tbody>\n",
              "</table>\n",
              "</div>"
            ],
            "text/plain": [
              "   type                                              posts\n",
              "0  INFJ  'http://www.youtube.com/watch?v=qsXHcwe3krw|||...\n",
              "1  ENTP  'I'm finding the lack of me in these posts ver...\n",
              "2  INTP  'Good one  _____   https://www.youtube.com/wat...\n",
              "3  INTJ  'Dear INTP,   I enjoyed our conversation the o...\n",
              "4  ENTJ  'You're fired.|||That's another silly misconce...\n",
              "5  INTJ  '18/37 @.@|||Science  is not perfect. No scien...\n",
              "6  INFJ  'No, I can't draw on my own nails (haha). Thos...\n",
              "7  INTJ  'I tend to build up a collection of things on ...\n",
              "8  INFJ  I'm not sure, that's a good question. The dist...\n",
              "9  INTP  'https://www.youtube.com/watch?v=w8-egj0y8Qs||..."
            ]
          },
          "metadata": {
            "tags": []
          },
          "execution_count": 4
        }
      ]
    },
    {
      "cell_type": "code",
      "metadata": {
        "id": "XZP9hmgjz3yL"
      },
      "source": [
        "# make a copy of the data and perform analysis on copy\n",
        "df= mb.copy()"
      ],
      "execution_count": null,
      "outputs": []
    },
    {
      "cell_type": "markdown",
      "metadata": {
        "id": "23XpY_Pq0LwI"
      },
      "source": [
        "## Brief Data Overview\n",
        "\n",
        "General information about the data set.\n",
        "\n",
        "Data contains:\n",
        "-  8675 rows\n",
        "-  Columns : 'Type' | 'Posts'\n",
        "- Complete dataset or no null values"
      ]
    },
    {
      "cell_type": "code",
      "metadata": {
        "id": "ZzriIq4IzzsF",
        "colab": {
          "base_uri": "https://localhost:8080/"
        },
        "outputId": "597ec86d-e9d5-4355-cf8b-fac859a525ae"
      },
      "source": [
        "# dataframe basic info\n",
        "print(df.shape)\n",
        "print(df.isna().sum().sum()) # check for null values\n",
        "print(df.columns)\n",
        "print(df.dtypes)"
      ],
      "execution_count": null,
      "outputs": [
        {
          "output_type": "stream",
          "text": [
            "(8675, 2)\n",
            "0\n",
            "Index(['type', 'posts'], dtype='object')\n",
            "type     object\n",
            "posts    object\n",
            "dtype: object\n"
          ],
          "name": "stdout"
        }
      ]
    },
    {
      "cell_type": "markdown",
      "metadata": {
        "id": "YtxhHkaViS-c"
      },
      "source": [
        "# Data Cleaning \n",
        "\n",
        "As seen above, the data includes extra characters and URL information that require extensive 'cleaning' prior to running analysis. We accomplished this by using Regular Expression (re) methods like 'split', 'lower' and 'sub'.  \n"
      ]
    },
    {
      "cell_type": "markdown",
      "metadata": {
        "id": "rndupLigesr5"
      },
      "source": [
        "## Split Rows \n",
        "\n",
        "Initially, the posts are organized in a way that has each persons posts/comments all grouped together by |||, so a specific example of the cleaning performed include spliting the data at |||, which essentially separates the individual posts into a list of 'strings'. "
      ]
    },
    {
      "cell_type": "code",
      "metadata": {
        "id": "E5nDCOLkAg-g"
      },
      "source": [
        "# split each post into separately record\n",
        "df ['posts'] = df['posts'].apply(lambda c: c.split('|||'))"
      ],
      "execution_count": null,
      "outputs": []
    },
    {
      "cell_type": "markdown",
      "metadata": {
        "id": "cTR9xT9B6JY1"
      },
      "source": [
        "## Removing or Replacing Punctuation\n",
        "\n",
        "Below are the methods used to remove punctuation, such as the '\\' and then replace some of the punctuation with its word equivalant. For example, switching out '!' for the word 'exclamation'. \n",
        "\n",
        "This was decided because it is possible that some of the personality types may be more expressive and use exclamation marks or others may be more curious and ask questions, so we decided to include this information in the analysis. "
      ]
    },
    {
      "cell_type": "code",
      "metadata": {
        "id": "VGqdzjuJcH_s"
      },
      "source": [
        "## Remove ''\\'\n",
        "df['posts'] = df['posts'].apply(lambda r: re.sub(r'\\'', '', str(r)))"
      ],
      "execution_count": null,
      "outputs": []
    },
    {
      "cell_type": "code",
      "metadata": {
        "id": "CbRwOB3IcbAo"
      },
      "source": [
        "## Define punctuation and values to trade them with.\n",
        "punct_marks = [r'\\?', r'\\!', r'\\...', r'\\#', r'\\.', r'\\\"', r'\\,']\n",
        "punct_name = [\" question \", \" exclamation \", \" lasting \", \" hashtag \", \" period  \", \"\", \" comma \"]\n",
        "punct_dict = dict(zip(punct_marks, punct_name))"
      ],
      "execution_count": null,
      "outputs": []
    },
    {
      "cell_type": "code",
      "metadata": {
        "id": "ww9GvJjF7DHm"
      },
      "source": [
        "## Replace punctuation based on the dictionary above.  Replaces '?' with 'question', etc.\n",
        "df2 = pd.DataFrame(columns=['type', 'posts'])\n",
        "for i in range(7):\n",
        "  df2['posts'] = df['posts'].apply(lambda x: re.sub(punct_marks[i], punct_name[i], str(x)))\n"
      ],
      "execution_count": null,
      "outputs": []
    },
    {
      "cell_type": "markdown",
      "metadata": {
        "id": "SDFkSENa7cZ4"
      },
      "source": [
        "## Lowercase All Text \n",
        "\n",
        "Leaving all the posts in the traditional sentance structure can have implication on the output or results of the predictions. Applying the 'lowercase' method allows the model to consolidate words with identitical meaning, putting more weight behind them.  "
      ]
    },
    {
      "cell_type": "code",
      "metadata": {
        "id": "EYVL5Q4icUeI"
      },
      "source": [
        "df2['posts'] = df2['posts'].apply(lambda r: r.lower())"
      ],
      "execution_count": null,
      "outputs": []
    },
    {
      "cell_type": "code",
      "metadata": {
        "id": "tzWKlC6ihszH"
      },
      "source": [
        "## Remove all URLs from the dataset.  Although some of the URLs could be correlated with personality types, I don't think that they would contribute much simply becasue\n",
        "## there are so few of them.  \n",
        "df2['posts'] = pd.Series(re.sub('http\\S+', '', str(df2.posts.iloc[i])) for i in range(0, len(df)))"
      ],
      "execution_count": null,
      "outputs": []
    },
    {
      "cell_type": "code",
      "metadata": {
        "id": "MujYNeCZq5uT"
      },
      "source": [
        "df2['type'] = df['type'].copy()"
      ],
      "execution_count": null,
      "outputs": []
    },
    {
      "cell_type": "code",
      "metadata": {
        "id": "fPaEVDrUd1Nf",
        "colab": {
          "base_uri": "https://localhost:8080/"
        },
        "outputId": "57abe5df-b6bb-4c55-e85c-eec08eea42b7"
      },
      "source": [
        "df2['posts']"
      ],
      "execution_count": null,
      "outputs": [
        {
          "output_type": "execute_result",
          "data": {
            "text/plain": [
              "0       [\" comma   comma  enfp and intj moments    spo...\n",
              "1       [\"im finding the lack of me in these posts ver...\n",
              "2       [\"good one  _____    comma  \"of course comma  ...\n",
              "3       [\"dear intp comma    i enjoyed our conversatio...\n",
              "4       [\"youre fired.\" comma  \"thats another silly mi...\n",
              "                              ...                        \n",
              "8670    [\" comma  ixfp just because i always think of ...\n",
              "8671    [\"so...if this thread already exists someplace...\n",
              "8672    [\"so many questions when i do these things.  i...\n",
              "8673    [\"i am very conflicted right now when it comes...\n",
              "8674    [\"it has been too long since i have been on pe...\n",
              "Name: posts, Length: 8675, dtype: object"
            ]
          },
          "metadata": {
            "tags": []
          },
          "execution_count": 14
        }
      ]
    },
    {
      "cell_type": "code",
      "metadata": {
        "id": "GDontN0hApW1",
        "colab": {
          "base_uri": "https://localhost:8080/"
        },
        "outputId": "66725a62-f898-4782-cafa-5ff8dd0973fb"
      },
      "source": [
        "# example of new type -- series instead of object\n",
        "##### !!! example of new type -- list instead of object \n",
        "### !!!! I may have broken this..... I didn't see where list was coming from so I took the row index out.  Also it's a series now, IDK when that changed but it works so i'm going with it!\n",
        "type(df2['posts'])"
      ],
      "execution_count": null,
      "outputs": [
        {
          "output_type": "execute_result",
          "data": {
            "text/plain": [
              "pandas.core.series.Series"
            ]
          },
          "metadata": {
            "tags": []
          },
          "execution_count": 15
        }
      ]
    },
    {
      "cell_type": "markdown",
      "metadata": {
        "id": "6vKgGZ8XfHN_"
      },
      "source": [
        "## Balance Classes "
      ]
    },
    {
      "cell_type": "code",
      "metadata": {
        "id": "yjlH6NuB85ri",
        "colab": {
          "base_uri": "https://localhost:8080/"
        },
        "outputId": "8791bb14-f958-45bb-9ffd-3844d9a53c79"
      },
      "source": [
        "# As the following counts show there are almost 47 times as many rows for 'INFP' (1832) then there are 'ESTJ' (39).  That would not work well on it's own.  With the classes (personality types) so imballanced \n",
        "# I would guess that it would likely classify more into the four groups with >1000, maybe some soptty assignments to the eight with between 100 and 700, and either noneor  very few assigned to the last four <90\n",
        "\n",
        "# We did try 'down sampling' to make each personality type be represented by 39 of their rows.  This didn't work very well, it just wasn't enough data for the model to really begin identifying each class.\n",
        "# Accuracy was around 20%\n",
        "df2['type'].value_counts()"
      ],
      "execution_count": null,
      "outputs": [
        {
          "output_type": "execute_result",
          "data": {
            "text/plain": [
              "INFP    1832\n",
              "INFJ    1470\n",
              "INTP    1304\n",
              "INTJ    1091\n",
              "ENTP     685\n",
              "ENFP     675\n",
              "ISTP     337\n",
              "ISFP     271\n",
              "ENTJ     231\n",
              "ISTJ     205\n",
              "ENFJ     190\n",
              "ISFJ     166\n",
              "ESTP      89\n",
              "ESFP      48\n",
              "ESFJ      42\n",
              "ESTJ      39\n",
              "Name: type, dtype: int64"
            ]
          },
          "metadata": {
            "tags": []
          },
          "execution_count": 16
        }
      ]
    },
    {
      "cell_type": "code",
      "metadata": {
        "id": "0BWiJ3s29vEr"
      },
      "source": [
        "# The solution to the problems with 'down sampling' is to try 'up sampling'.  Basically this just allows repeating the rows for the personality types with very few rows to reach a specified number of rows.\n",
        "# So this allows using a portion of the entries with large numbers of rows, and repeating the entries for personality types with only a few, to fill a set number of rows\n",
        "df_new = df2.groupby('type').sample(n=600, random_state=1, replace = True)"
      ],
      "execution_count": null,
      "outputs": []
    },
    {
      "cell_type": "code",
      "metadata": {
        "id": "FSjtuwItx7AB",
        "colab": {
          "base_uri": "https://localhost:8080/"
        },
        "outputId": "16bc9610-4096-4997-84d9-bd71544db446"
      },
      "source": [
        "# This is not necassarily needed, it is just to give a very brief over view of the principle of up/down sampling.\n",
        "# This just shows an example of how many times each personality type would need to be repeated to fill 600 rows (number < 1 means that less then the number of rows avalible was needed to fill our 600).\n",
        "round(600/df2['type'].value_counts(), 2)"
      ],
      "execution_count": null,
      "outputs": [
        {
          "output_type": "execute_result",
          "data": {
            "text/plain": [
              "INFP     0.33\n",
              "INFJ     0.41\n",
              "INTP     0.46\n",
              "INTJ     0.55\n",
              "ENTP     0.88\n",
              "ENFP     0.89\n",
              "ISTP     1.78\n",
              "ISFP     2.21\n",
              "ENTJ     2.60\n",
              "ISTJ     2.93\n",
              "ENFJ     3.16\n",
              "ISFJ     3.61\n",
              "ESTP     6.74\n",
              "ESFP    12.50\n",
              "ESFJ    14.29\n",
              "ESTJ    15.38\n",
              "Name: type, dtype: float64"
            ]
          },
          "metadata": {
            "tags": []
          },
          "execution_count": 18
        }
      ]
    },
    {
      "cell_type": "code",
      "metadata": {
        "id": "o2fSfezn99Vd",
        "colab": {
          "base_uri": "https://localhost:8080/"
        },
        "outputId": "bbe7dd02-439c-4143-f48e-881f439f40b9"
      },
      "source": [
        "# Shows that the new dataframe has 600 entries for each personality type\n",
        "df_new['type'].value_counts()"
      ],
      "execution_count": null,
      "outputs": [
        {
          "output_type": "execute_result",
          "data": {
            "text/plain": [
              "ISFP    600\n",
              "ENFJ    600\n",
              "ISFJ    600\n",
              "ESTJ    600\n",
              "INTP    600\n",
              "ESTP    600\n",
              "INTJ    600\n",
              "ESFP    600\n",
              "ESFJ    600\n",
              "ENTP    600\n",
              "ENFP    600\n",
              "ISTP    600\n",
              "INFP    600\n",
              "INFJ    600\n",
              "ISTJ    600\n",
              "ENTJ    600\n",
              "Name: type, dtype: int64"
            ]
          },
          "metadata": {
            "tags": []
          },
          "execution_count": 19
        }
      ]
    },
    {
      "cell_type": "markdown",
      "metadata": {
        "id": "mjCz6Va3yZyR"
      },
      "source": [
        "# Exploratory Data Analysis (EDA)"
      ]
    },
    {
      "cell_type": "markdown",
      "metadata": {
        "id": "tWv_YO97tgg_"
      },
      "source": [
        "## Transition to Numerical Data\n"
      ]
    },
    {
      "cell_type": "markdown",
      "metadata": {
        "id": "aKUOwNMlhTti"
      },
      "source": [
        "Below is the syntax for TFIDF Vectorizer and removing 'stop' words\n"
      ]
    },
    {
      "cell_type": "code",
      "metadata": {
        "id": "xDuX_ozggqC-"
      },
      "source": [
        "# Syntex for Vectorization -- combines above two steps into this one step \n",
        "# this may be a repeat\n",
        "tfidf_vec = TfidfVectorizer(stop_words = 'english')\n",
        "tfidf_data = tfidf_vec.fit_transform(df_new['posts'])\n"
      ],
      "execution_count": null,
      "outputs": []
    },
    {
      "cell_type": "code",
      "metadata": {
        "id": "P4GMFG3mHJsF",
        "colab": {
          "base_uri": "https://localhost:8080/"
        },
        "outputId": "a81134f2-7b1a-4edf-c4aa-0ebd46dbbdde"
      },
      "source": [
        "# replace all 'type' names into numerical values for future analysis\n",
        "rep_dict = {'INFP' : 1, 'INFJ' :2, 'INTP' :3, 'INTJ' :4, 'ENTP': 5, 'ENFP' :6, 'ISTP' :7, 'ISFP' :8, 'ENTJ' :9, 'ISTJ' :10, 'ENFJ' :11, 'ISFJ'  :12, 'ESTP' :13, 'ESFP' :14, 'ESFJ' :15, 'ESTJ' :16}\n",
        "num_y = df_new['type'].replace(rep_dict)\n",
        "num_y"
      ],
      "execution_count": null,
      "outputs": [
        {
          "output_type": "execute_result",
          "data": {
            "text/plain": [
              "1625    11\n",
              "6444    11\n",
              "3147    11\n",
              "6219    11\n",
              "5810    11\n",
              "        ..\n",
              "1330     7\n",
              "4773     7\n",
              "7347     7\n",
              "4427     7\n",
              "7945     7\n",
              "Name: type, Length: 9600, dtype: int64"
            ]
          },
          "metadata": {
            "tags": []
          },
          "execution_count": 21
        }
      ]
    },
    {
      "cell_type": "code",
      "metadata": {
        "id": "d3z_tMmZ-o67",
        "colab": {
          "base_uri": "https://localhost:8080/"
        },
        "outputId": "95f28049-52d4-4db1-cd72-780423150dd3"
      },
      "source": [
        "# checking and confirming classes still equal in value counts \n",
        "num_y.value_counts()"
      ],
      "execution_count": null,
      "outputs": [
        {
          "output_type": "execute_result",
          "data": {
            "text/plain": [
              "15    600\n",
              "7     600\n",
              "14    600\n",
              "6     600\n",
              "13    600\n",
              "5     600\n",
              "12    600\n",
              "4     600\n",
              "11    600\n",
              "3     600\n",
              "10    600\n",
              "2     600\n",
              "9     600\n",
              "1     600\n",
              "16    600\n",
              "8     600\n",
              "Name: type, dtype: int64"
            ]
          },
          "metadata": {
            "tags": []
          },
          "execution_count": 22
        }
      ]
    },
    {
      "cell_type": "markdown",
      "metadata": {
        "id": "_X2susHb8CiU"
      },
      "source": [
        "# Data Analysis\n",
        "\n",
        "Initial pass with Nieve Bayes "
      ]
    },
    {
      "cell_type": "code",
      "metadata": {
        "id": "vA3t5pvE0kQ1",
        "colab": {
          "base_uri": "https://localhost:8080/"
        },
        "outputId": "da8003d4-be65-41e4-b59d-c5c572fa5fb5"
      },
      "source": [
        "# pull in model_selection and MultinomialNB from SKlearn\n",
        "\n",
        "x_train, x_test, y_train, y_test = model_selection.train_test_split(tfidf_data, df_new['type'])\n",
        "\n",
        "multi_bayes = MultinomialNB()\n",
        "multi_bayes.fit(x_train, y_train)\n",
        "y_pred = multi_bayes.predict(x_test)\n",
        "print(\"Number of mislabeled points out of a total %d points : %d\"\n",
        "      % (x_test.shape[0], (y_test != y_pred).sum()))\n",
        "print(f\"Percent correctly labeled: {((y_test == y_pred).sum())/24}\")"
      ],
      "execution_count": null,
      "outputs": [
        {
          "output_type": "stream",
          "text": [
            "Number of mislabeled points out of a total 2400 points : 701\n",
            "Percent correctly labeled: 70.79166666666667\n"
          ],
          "name": "stdout"
        }
      ]
    },
    {
      "cell_type": "markdown",
      "metadata": {
        "id": "-IFAZjFGkdhS"
      },
      "source": [
        "# Cross Validation"
      ]
    },
    {
      "cell_type": "code",
      "metadata": {
        "id": "1xVoALa9kKrt",
        "colab": {
          "base_uri": "https://localhost:8080/"
        },
        "outputId": "236c8352-c81b-43a9-b27b-762a49223ce5"
      },
      "source": [
        "# run accuracy scores and find % accuracy \n",
        "n = 10\n",
        "results = cross_val_score(multi_bayes, tfidf_data, df_new['type'], scoring='accuracy', cv = n)\n",
        "print(results) # run through n times \n",
        "accu_results  = results.mean() # average of accuracy \n",
        "results_mnb = results\n",
        "print(f\"The average accuracy for the {n} runs is: {round(accu_results*100, 4)}\")"
      ],
      "execution_count": null,
      "outputs": [
        {
          "output_type": "stream",
          "text": [
            "[0.784375   0.79375    0.7875     0.79166667 0.78854167 0.803125\n",
            " 0.790625   0.79375    0.784375   0.7875    ]\n",
            "The average accuracy for the 10 runs is: 79.0521\n"
          ],
          "name": "stdout"
        }
      ]
    },
    {
      "cell_type": "markdown",
      "metadata": {
        "id": "cKne-4dSZgXr"
      },
      "source": [
        "# Data Visualization\n",
        "\n",
        " Naive Bayes results "
      ]
    },
    {
      "cell_type": "code",
      "metadata": {
        "id": "uLWnW_NpkAIU",
        "colab": {
          "base_uri": "https://localhost:8080/",
          "height": 1000
        },
        "outputId": "7d8b16dc-9a23-40ce-b1c1-7c5e42197a9a"
      },
      "source": [
        "fig, ax = plt.subplots(figsize=(20, 20))\n",
        "metrics.plot_confusion_matrix(multi_bayes, x_test, y_test, ax = ax, normalize = 'true', values_format = '.1%', cmap='terrain')\n",
        "plt.title('Confusion matrix')\n",
        "plt.show()\n",
        "#plt.savefig('/content/drive/My Drive/Test_confusion_matrix.png')"
      ],
      "execution_count": null,
      "outputs": [
        {
          "output_type": "display_data",
          "data": {
            "image/png": "[encoded data removed]",
            "text/plain": [
              "<Figure size 1440x1440 with 2 Axes>"
            ]
          },
          "metadata": {
            "tags": [],
            "needs_background": "light"
          }
        }
      ]
    },
    {
      "cell_type": "markdown",
      "metadata": {
        "id": "7-8IZa5FDzcu"
      },
      "source": [
        "# Tree Based Model"
      ]
    },
    {
      "cell_type": "code",
      "metadata": {
        "id": "Lzp09PwrBc4a"
      },
      "source": [
        "from xgboost import XGBClassifier"
      ],
      "execution_count": null,
      "outputs": []
    },
    {
      "cell_type": "code",
      "metadata": {
        "id": "a2OYYesID188",
        "colab": {
          "base_uri": "https://localhost:8080/",
          "height": 382
        },
        "outputId": "b5dc53df-b860-4a8d-fbb3-486b3ba17185"
      },
      "source": [
        "# can change the number of loops\n",
        "loops = 10\n",
        "\n",
        "# prefill loops with zeros as placeholders\n",
        "accuracy_xgb = np.zeros(loops)\n",
        "\n",
        "\n",
        "#root_mean_percnt_error_xgb\n",
        "# for loop to cycle through \n",
        "for index in range(0,loops):\n",
        "  x_train, x_test, y_train, y_test = model_selection.train_test_split(tfidf_data, num_y, test_size = 0.15)\n",
        "  xgboost_model = XGBClassifier(objective = 'multi:softmax', num_class=17, verbosity = 0, seed = 8)\n",
        "\n",
        "# fit the model x_train   X_train_tfidf, train_re\n",
        "  xgboost_model.fit(x_train, y_train) #astype(float)\n",
        "  \n",
        "# predictions \n",
        "  type_predictions_xgb = xgboost_model.predict(x_test)\n",
        "\n",
        "# loop through the index of zeros and fill them with test vs predicted values -- returning MSE\n",
        "  accuracy_xgb[index] = accuracy_score(y_test,type_predictions_xgb)\n",
        "\n",
        "\n",
        "accuracy_xgb_1 = accuracy_xgb.mean()\n",
        "\n",
        "# I'm saving this.  Because I dont want to have to wait 2 hours to start working on the line plot\n",
        "pd.Series(accuracy_xgb).to_csv('/content/drive/MyDrive/Student Folder - David/Capstone/xgb_accuracy.csv')\n",
        "\n",
        "print(f\"Accuracy score for XGBoost model: {accuracy_xgb_1*100}%\")"
      ],
      "execution_count": null,
      "outputs": [
        {
          "output_type": "error",
          "ename": "FileNotFoundError",
          "evalue": "ignored",
          "traceback": [
            "\u001b[0;31m---------------------------------------------------------------------------\u001b[0m",
            "\u001b[0;31mFileNotFoundError\u001b[0m                         Traceback (most recent call last)",
            "\u001b[0;32m<ipython-input-28-ea2ebce13138>\u001b[0m in \u001b[0;36m<module>\u001b[0;34m()\u001b[0m\n\u001b[1;32m     25\u001b[0m \u001b[0;34m\u001b[0m\u001b[0m\n\u001b[1;32m     26\u001b[0m \u001b[0;31m# I'm saving this.  Because I dont want to have to wait 2 hours to start working on the line plot\u001b[0m\u001b[0;34m\u001b[0m\u001b[0;34m\u001b[0m\u001b[0;34m\u001b[0m\u001b[0m\n\u001b[0;32m---> 27\u001b[0;31m \u001b[0mpd\u001b[0m\u001b[0;34m.\u001b[0m\u001b[0mSeries\u001b[0m\u001b[0;34m(\u001b[0m\u001b[0maccuracy_xgb\u001b[0m\u001b[0;34m)\u001b[0m\u001b[0;34m.\u001b[0m\u001b[0mto_csv\u001b[0m\u001b[0;34m(\u001b[0m\u001b[0;34m'/content/drive/MyDrive/Student Folder - David/Capstone/xgb_accuracy.csv'\u001b[0m\u001b[0;34m)\u001b[0m\u001b[0;34m\u001b[0m\u001b[0;34m\u001b[0m\u001b[0m\n\u001b[0m\u001b[1;32m     28\u001b[0m \u001b[0;34m\u001b[0m\u001b[0m\n\u001b[1;32m     29\u001b[0m \u001b[0mprint\u001b[0m\u001b[0;34m(\u001b[0m\u001b[0;34mf\"Accuracy score for XGBoost model: {accuracy_xgb_1*100}%\"\u001b[0m\u001b[0;34m)\u001b[0m\u001b[0;34m\u001b[0m\u001b[0;34m\u001b[0m\u001b[0m\n",
            "\u001b[0;32m/usr/local/lib/python3.7/dist-packages/pandas/core/generic.py\u001b[0m in \u001b[0;36mto_csv\u001b[0;34m(self, path_or_buf, sep, na_rep, float_format, columns, header, index, index_label, mode, encoding, compression, quoting, quotechar, line_terminator, chunksize, date_format, doublequote, escapechar, decimal, errors)\u001b[0m\n\u001b[1;32m   3168\u001b[0m             \u001b[0mdecimal\u001b[0m\u001b[0;34m=\u001b[0m\u001b[0mdecimal\u001b[0m\u001b[0;34m,\u001b[0m\u001b[0;34m\u001b[0m\u001b[0;34m\u001b[0m\u001b[0m\n\u001b[1;32m   3169\u001b[0m         )\n\u001b[0;32m-> 3170\u001b[0;31m         \u001b[0mformatter\u001b[0m\u001b[0;34m.\u001b[0m\u001b[0msave\u001b[0m\u001b[0;34m(\u001b[0m\u001b[0;34m)\u001b[0m\u001b[0;34m\u001b[0m\u001b[0;34m\u001b[0m\u001b[0m\n\u001b[0m\u001b[1;32m   3171\u001b[0m \u001b[0;34m\u001b[0m\u001b[0m\n\u001b[1;32m   3172\u001b[0m         \u001b[0;32mif\u001b[0m \u001b[0mpath_or_buf\u001b[0m \u001b[0;32mis\u001b[0m \u001b[0;32mNone\u001b[0m\u001b[0;34m:\u001b[0m\u001b[0;34m\u001b[0m\u001b[0;34m\u001b[0m\u001b[0m\n",
            "\u001b[0;32m/usr/local/lib/python3.7/dist-packages/pandas/io/formats/csvs.py\u001b[0m in \u001b[0;36msave\u001b[0;34m(self)\u001b[0m\n\u001b[1;32m    188\u001b[0m                 \u001b[0mencoding\u001b[0m\u001b[0;34m=\u001b[0m\u001b[0mself\u001b[0m\u001b[0;34m.\u001b[0m\u001b[0mencoding\u001b[0m\u001b[0;34m,\u001b[0m\u001b[0;34m\u001b[0m\u001b[0;34m\u001b[0m\u001b[0m\n\u001b[1;32m    189\u001b[0m                 \u001b[0merrors\u001b[0m\u001b[0;34m=\u001b[0m\u001b[0mself\u001b[0m\u001b[0;34m.\u001b[0m\u001b[0merrors\u001b[0m\u001b[0;34m,\u001b[0m\u001b[0;34m\u001b[0m\u001b[0;34m\u001b[0m\u001b[0m\n\u001b[0;32m--> 190\u001b[0;31m                 \u001b[0mcompression\u001b[0m\u001b[0;34m=\u001b[0m\u001b[0mdict\u001b[0m\u001b[0;34m(\u001b[0m\u001b[0mself\u001b[0m\u001b[0;34m.\u001b[0m\u001b[0mcompression_args\u001b[0m\u001b[0;34m,\u001b[0m \u001b[0mmethod\u001b[0m\u001b[0;34m=\u001b[0m\u001b[0mself\u001b[0m\u001b[0;34m.\u001b[0m\u001b[0mcompression\u001b[0m\u001b[0;34m)\u001b[0m\u001b[0;34m,\u001b[0m\u001b[0;34m\u001b[0m\u001b[0;34m\u001b[0m\u001b[0m\n\u001b[0m\u001b[1;32m    191\u001b[0m             )\n\u001b[1;32m    192\u001b[0m             \u001b[0mclose\u001b[0m \u001b[0;34m=\u001b[0m \u001b[0;32mTrue\u001b[0m\u001b[0;34m\u001b[0m\u001b[0;34m\u001b[0m\u001b[0m\n",
            "\u001b[0;32m/usr/local/lib/python3.7/dist-packages/pandas/io/common.py\u001b[0m in \u001b[0;36mget_handle\u001b[0;34m(path_or_buf, mode, encoding, compression, memory_map, is_text, errors)\u001b[0m\n\u001b[1;32m    491\u001b[0m         \u001b[0;32mif\u001b[0m \u001b[0mencoding\u001b[0m\u001b[0;34m:\u001b[0m\u001b[0;34m\u001b[0m\u001b[0;34m\u001b[0m\u001b[0m\n\u001b[1;32m    492\u001b[0m             \u001b[0;31m# Encoding\u001b[0m\u001b[0;34m\u001b[0m\u001b[0;34m\u001b[0m\u001b[0;34m\u001b[0m\u001b[0m\n\u001b[0;32m--> 493\u001b[0;31m             \u001b[0mf\u001b[0m \u001b[0;34m=\u001b[0m \u001b[0mopen\u001b[0m\u001b[0;34m(\u001b[0m\u001b[0mpath_or_buf\u001b[0m\u001b[0;34m,\u001b[0m \u001b[0mmode\u001b[0m\u001b[0;34m,\u001b[0m \u001b[0mencoding\u001b[0m\u001b[0;34m=\u001b[0m\u001b[0mencoding\u001b[0m\u001b[0;34m,\u001b[0m \u001b[0merrors\u001b[0m\u001b[0;34m=\u001b[0m\u001b[0merrors\u001b[0m\u001b[0;34m,\u001b[0m \u001b[0mnewline\u001b[0m\u001b[0;34m=\u001b[0m\u001b[0;34m\"\"\u001b[0m\u001b[0;34m)\u001b[0m\u001b[0;34m\u001b[0m\u001b[0;34m\u001b[0m\u001b[0m\n\u001b[0m\u001b[1;32m    494\u001b[0m         \u001b[0;32melif\u001b[0m \u001b[0mis_text\u001b[0m\u001b[0;34m:\u001b[0m\u001b[0;34m\u001b[0m\u001b[0;34m\u001b[0m\u001b[0m\n\u001b[1;32m    495\u001b[0m             \u001b[0;31m# No explicit encoding\u001b[0m\u001b[0;34m\u001b[0m\u001b[0;34m\u001b[0m\u001b[0;34m\u001b[0m\u001b[0m\n",
            "\u001b[0;31mFileNotFoundError\u001b[0m: [Errno 2] No such file or directory: '/content/drive/MyDrive/Student Folder - David/Capstone/xgb_accuracy.csv'"
          ]
        }
      ]
    },
    {
      "cell_type": "code",
      "metadata": {
        "id": "8HsDTOMLauX8"
      },
      "source": [
        "from google.colab import drive\n",
        "drive.mount('/content/drive')"
      ],
      "execution_count": null,
      "outputs": []
    },
    {
      "cell_type": "code",
      "metadata": {
        "id": "DeQjBBgg89ol"
      },
      "source": [
        "# display_labelsarray-like of shape (n_classes,), default=None\n",
        "\n",
        "# Target names used for plotting. By default, labels will be used if it is defined, otherwise the unique labels of y_true and y_pred will be used."
      ],
      "execution_count": null,
      "outputs": []
    },
    {
      "cell_type": "code",
      "metadata": {
        "id": "acrohsPb_9Dy"
      },
      "source": [
        "fig, ax = plt.subplots(figsize=(20, 20))\n",
        "metrics.plot_confusion_matrix(xgboost_model, x_test, y_test, ax = ax, normalize = 'true', values_format = '.1%', cmap='terrain')\n",
        "plt.title('Confusion matrix')\n",
        "plt.show()\n",
        "#plt.savefig('/content/drive/My Drive/Test_confusion_matrix.png')"
      ],
      "execution_count": null,
      "outputs": []
    },
    {
      "cell_type": "code",
      "metadata": {
        "id": "0sejeGpJKq7r"
      },
      "source": [
        "parameters = {\n",
        "    'max_depth': [17,19,21], \n",
        "    'learning_rate' : [0.1, 0.3, 0.5], \n",
        "    'tree_estimators': [5, 7, 10]  \n",
        "}\n",
        "\n",
        "# Use Grid Search to find best fit\n",
        "\n",
        "search_for_best = GridSearchCV(estimator=xgb.XGBRegressor(objective = 'multi:softmax' ,seed=10), param_grid=parameters, scoring='accuracy')\n",
        "\n",
        "# Fit to training data\n",
        "x_train, x_test, y_train, y_test = train_test_split(tfidf_data, num_y,test_size = 0.15)\n",
        "fit_model = search_for_best.fit(x_train, y_train)\n",
        "\n",
        "# See grid results\n",
        "print(fit_model.best_params_)"
      ],
      "execution_count": null,
      "outputs": []
    },
    {
      "cell_type": "markdown",
      "metadata": {
        "id": "TOylFA395HW8"
      },
      "source": [
        "#Line plot"
      ]
    },
    {
      "cell_type": "code",
      "metadata": {
        "id": "iRuWHXJ3t6nX"
      },
      "source": [
        "try:\n",
        "  xgb_plot = pd.Series(accuracy_xgb).apply(lambda g: g*100)\n",
        "  print(\"New data to plot!\")\n",
        "except:\n",
        "  xgb_plot = pd.read_csv('/content/drive/MyDrive/Student Folder - David/Capstone/xgb_accuracy.csv')\n",
        "  xgb_plot.drop('Unnamed: 0', axis=1, inplace=True)\n",
        "  xgb_plot = xgb_plot.apply(lambda f: f*100)\n",
        "  print(\"No new data to plot.  Have to use saved data.\")"
      ],
      "execution_count": null,
      "outputs": []
    },
    {
      "cell_type": "code",
      "metadata": {
        "id": "1M1aOEmX5R4x"
      },
      "source": [
        "mnb_plot = pd.Series(results_mnb)\n"
      ],
      "execution_count": null,
      "outputs": []
    },
    {
      "cell_type": "code",
      "metadata": {
        "id": "9Gh18WEuoUx9"
      },
      "source": [
        "mnb_plot_ave = results_mnb.mean()\n",
        "xgb_plot_ave = accuracy_xgb2.mean()\n",
        "print(results_mnb.mean(), accuracy_xgb2.mean())"
      ],
      "execution_count": null,
      "outputs": []
    },
    {
      "cell_type": "code",
      "metadata": {
        "id": "FlpCTiQ3nyuh"
      },
      "source": [
        "f = plt.figure()\n",
        "f.set_figwidth(13)\n",
        "f.set_figheight(10)\n",
        "\n",
        "SMALL_SIZE = 12\n",
        "MEDIUM_SIZE = 17\n",
        "BIGGER_SIZE = 22\n",
        "LEGEND_SIZE = 15\n",
        "\n",
        "plt.rc('font', size=SMALL_SIZE)          # controls default text sizes\n",
        "plt.rc('axes', titlesize=SMALL_SIZE)     # fontsize of the axes title\n",
        "plt.rc('axes', labelsize=MEDIUM_SIZE)    # fontsize of the x and y labels\n",
        "plt.rc('xtick', labelsize=SMALL_SIZE)    # fontsize of the tick labels\n",
        "plt.rc('ytick', labelsize=SMALL_SIZE)    # fontsize of the tick labels\n",
        "plt.rc('legend', fontsize=LEGEND_SIZE)    # legend fontsize\n",
        "plt.rc('figure', titlesize=BIGGER_SIZE)  # fontsize of the figure title\n",
        "#plt.rc.Params.update({'font.size': 22})\n",
        "\n",
        "plt.plot(xgb_plot, '-g', label='XGBoost')\n",
        "plt.plot(mnb_plot, '-b', label='MultinomialNB')\n",
        "plt.axis([0,9, 69, 95])\n",
        "\n",
        "plt.hlines(mnb_plot_ave, 0, 9, colors='lightsteelblue', linestyles='solid', label='MultinomialNB Mean')\n",
        "plt.hlines(xgb_plot_ave, 0, 9, colors='lightseagreen', linestyles='solid', label='XGBoost Mean')\n",
        "\n",
        "plt.xlabel('Epoch')\n",
        "plt.ylabel('Accuracy (percentage correctly classified)')\n",
        "plt.suptitle('Accuracy of XGBoost model and \\nMultinomialNB over 10 Epochs')\n",
        "plt.legend(['XGBoost', 'MultinomialNB', 'XGBoost Mean', 'MultinomialNB Mean'])"
      ],
      "execution_count": null,
      "outputs": []
    },
    {
      "cell_type": "markdown",
      "metadata": {
        "id": "IhZFdg5CxxKQ"
      },
      "source": [
        "#Word clouds"
      ]
    },
    {
      "cell_type": "markdown",
      "metadata": {
        "id": "SzwUorX5BDze"
      },
      "source": [
        "##From discriptions"
      ]
    },
    {
      "cell_type": "markdown",
      "metadata": {
        "id": "NDkc3X3hCzVI"
      },
      "source": [
        "###INTP"
      ]
    },
    {
      "cell_type": "code",
      "metadata": {
        "id": "mWFm1PuJwOly"
      },
      "source": [
        "import pandas as pd\n",
        "import numpy as np\n",
        "import requests as re\n",
        "import matplotlib.pyplot as plt\n",
        "from wordcloud import WordCloud\n",
        "from bs4 import BeautifulSoup"
      ],
      "execution_count": null,
      "outputs": []
    },
    {
      "cell_type": "code",
      "metadata": {
        "id": "25FE7VxSwbx2"
      },
      "source": [
        "intp = re.get('https://www.16personalities.com/intp-personality')\n",
        "intp_r = intp.content\n",
        "intp_soup = BeautifulSoup(intp_r, 'html.parser')\n",
        "intp_soup = intp_soup.find_all(text=True)\n",
        "intp_soup"
      ],
      "execution_count": null,
      "outputs": []
    },
    {
      "cell_type": "code",
      "metadata": {
        "id": "zwFPhflRMJ_L"
      },
      "source": [
        "\n",
        "intp2 = re.get('https://www.verywellmind.com/intp-introverted-intuitive-thinking-perceiving-2795989')\n",
        "intp2_r = intp2.content\n",
        "intp2_soup = BeautifulSoup(intp2_r, 'html.parser')\n",
        "intp2_soup = intp2_soup.find_all(text=True)\n",
        "intp2_soup"
      ],
      "execution_count": null,
      "outputs": []
    },
    {
      "cell_type": "code",
      "metadata": {
        "id": "N8Nr-U4RNlDe"
      },
      "source": [
        "intp2_soup\n",
        "\n",
        "output2 = ''\n",
        "blacklist = [\n",
        "    '[document]',\n",
        "    'noscript',\n",
        "    'header',\n",
        "    'html',\n",
        "    'meta',\n",
        "    'head', \n",
        "    'input',\n",
        "    'script',\n",
        "    # there may be more elements you don't want, such as \"style\", etc.\n",
        "]\n",
        "for t in intp2_soup:\n",
        "    if t.parent.name not in blacklist:\n",
        "        output2 += '{} '.format(t)\n",
        "\n",
        "output2"
      ],
      "execution_count": null,
      "outputs": []
    },
    {
      "cell_type": "code",
      "metadata": {
        "id": "33vx3ALTX5ea"
      },
      "source": [
        "output2 = output2.replace('\\n', '')\n",
        "output2"
      ],
      "execution_count": null,
      "outputs": []
    },
    {
      "cell_type": "code",
      "metadata": {
        "id": "snT6llI4zxxB"
      },
      "source": [
        "output = ''\n",
        "blacklist = [\n",
        "    '[document]',\n",
        "    'noscript',\n",
        "    'header',\n",
        "    'html',\n",
        "    'meta',\n",
        "    'head', \n",
        "    'input',\n",
        "    'script',\n",
        "    # there may be more elements you don't want, such as \"style\", etc.\n",
        "]\n",
        "for t in intp_soup:\n",
        "    if t.parent.name not in blacklist:\n",
        "        output += '{} '.format(t)\n",
        "\n",
        "print(output)"
      ],
      "execution_count": null,
      "outputs": []
    },
    {
      "cell_type": "code",
      "metadata": {
        "id": "x2PVVEZZYVDj"
      },
      "source": [
        "str(output2).find('Tips for Interacting With INTPs ')"
      ],
      "execution_count": null,
      "outputs": []
    },
    {
      "cell_type": "code",
      "metadata": {
        "id": "XOWM2O961asM"
      },
      "source": [
        "str(output).find('\\n Logician  Personality \\n INTP-A')"
      ],
      "execution_count": null,
      "outputs": []
    },
    {
      "cell_type": "code",
      "metadata": {
        "id": "1ixgoCXXYl_z"
      },
      "source": [
        "out2_trim = str(output2)[3986:]"
      ],
      "execution_count": null,
      "outputs": []
    },
    {
      "cell_type": "code",
      "metadata": {
        "id": "NFWar815Zi1D"
      },
      "source": [
        "str(out2_trim).find('Was this page helpful?  ')"
      ],
      "execution_count": null,
      "outputs": []
    },
    {
      "cell_type": "code",
      "metadata": {
        "id": "mi8SOIjIaAHE"
      },
      "source": [
        "intp2_clean = str(out2_trim)[:7894]"
      ],
      "execution_count": null,
      "outputs": []
    },
    {
      "cell_type": "code",
      "metadata": {
        "id": "bsByF_kY30Mj"
      },
      "source": [
        "out_trim = str(output)[1167:]"
      ],
      "execution_count": null,
      "outputs": []
    },
    {
      "cell_type": "code",
      "metadata": {
        "id": "da-qGT1S42Dk"
      },
      "source": [
        "str(out_trim).find(' \\n 01 \\n \\n \\n \\n')"
      ],
      "execution_count": null,
      "outputs": []
    },
    {
      "cell_type": "code",
      "metadata": {
        "id": "xCReaMjo5NBq"
      },
      "source": [
        "out_cut = str(out_trim)[:5143]\n",
        "intp_clean = out_cut.replace('\\n', '')"
      ],
      "execution_count": null,
      "outputs": []
    },
    {
      "cell_type": "code",
      "metadata": {
        "id": "tDRrDJaiaYJY"
      },
      "source": [
        "intp_t_clean = intp_clean + intp2_clean"
      ],
      "execution_count": null,
      "outputs": []
    },
    {
      "cell_type": "code",
      "metadata": {
        "id": "CyoOwEhpazpt"
      },
      "source": [
        "print(len(intp_clean), len(intp2_clean), len(intp_t_clean))"
      ],
      "execution_count": null,
      "outputs": []
    },
    {
      "cell_type": "code",
      "metadata": {
        "id": "38zLSkVxcZf-"
      },
      "source": [
        "#intp_t_clean = intp_t_clean.replace('INTP', ' ')"
      ],
      "execution_count": null,
      "outputs": []
    },
    {
      "cell_type": "code",
      "metadata": {
        "id": "DZiChRCgC--W"
      },
      "source": [
        "word_c = WordCloud(max_font_size=40, max_words=100).generate(intp_t_clean)\n",
        "plt.figure(figsize = (20,10))\n",
        "plt.imshow(word_c, interpolation='bilinear')\n",
        "plt.axis(\"off\")\n",
        "plt.show()    # rather type"
      ],
      "execution_count": null,
      "outputs": []
    },
    {
      "cell_type": "markdown",
      "metadata": {
        "id": "OE1uh_eId9y5"
      },
      "source": [
        "###ENFJ"
      ]
    },
    {
      "cell_type": "code",
      "metadata": {
        "id": "6IcdFXjpeNf0"
      },
      "source": [
        "enfj_r = "
      ],
      "execution_count": null,
      "outputs": []
    },
    {
      "cell_type": "code",
      "metadata": {
        "id": "ze-uCEaCeNgF"
      },
      "source": [
        "#enfj_t_clean = enfj_t_clean.replace('ENFJ', ' ')\n",
        "#enfj_t_clean = enfj_t_clean.replace('enfj', ' ')\n",
        "enfj_t_clean = enfj_t_clean.replace('sometimes', ' ')\n",
        "enfj_t_clean = enfj_t_clean.replace('often', ' ')\n",
        "enfj_t_clean = enfj_t_clean.replace('even', ' ')\n",
        "enfj_t_clean = enfj_t_clean.replace('many', ' ')"
      ],
      "execution_count": null,
      "outputs": []
    },
    {
      "cell_type": "code",
      "metadata": {
        "id": "pZSoyUXPeNgF"
      },
      "source": [
        "word_c = WordCloud(max_font_size=40, max_words=100, background_color=\"white\", prefer_horizontal=0.85).generate(enfj_t_clean)\n",
        "plt.figure(figsize = (20,10))\n",
        "plt.imshow(word_c, interpolation='bilinear')\n",
        "plt.axis(\"off\")\n",
        "plt.show()"
      ],
      "execution_count": null,
      "outputs": []
    },
    {
      "cell_type": "markdown",
      "metadata": {
        "id": "7Sb9sjB4BOzp"
      },
      "source": [
        "##From posts used for classification"
      ]
    },
    {
      "cell_type": "markdown",
      "metadata": {
        "id": "x7VSt-qiGIGb"
      },
      "source": [
        "###INTP"
      ]
    },
    {
      "cell_type": "code",
      "metadata": {
        "id": "EZFVYrux_Zyp"
      },
      "source": [
        "intp_d = df2[df2['type'] == \"INTP\"]"
      ],
      "execution_count": null,
      "outputs": []
    },
    {
      "cell_type": "code",
      "metadata": {
        "id": "SvvPVo6PA_hd"
      },
      "source": [
        "intp_d = ''.join(intp_d['posts'])"
      ],
      "execution_count": null,
      "outputs": []
    },
    {
      "cell_type": "code",
      "metadata": {
        "id": "c-duGed6AD17"
      },
      "source": [
        "intp_d = intp_d.replace(\" question \", \"\")\n",
        "intp_d = intp_d.replace(\" exclamation \", ' ')\n",
        "intp_d = intp_d.replace(\" lasting \", ' ')\n",
        "intp_d = intp_d.replace(\" hashtag \", ' ')\n",
        "intp_d = intp_d.replace(\" period \", ' ')\n",
        "intp_d = intp_d.replace(\"comma\", \"\")"
      ],
      "execution_count": null,
      "outputs": []
    },
    {
      "cell_type": "code",
      "metadata": {
        "id": "jLJpau6lJHG-"
      },
      "source": [
        "intp_d"
      ],
      "execution_count": null,
      "outputs": []
    },
    {
      "cell_type": "code",
      "metadata": {
        "id": "AeIMJloPBWL6"
      },
      "source": [
        "word_c = WordCloud(max_font_size=40, max_words=150, background_color=\"white\", prefer_horizontal=0.85).generate(intp_d)\n",
        "plt.figure(figsize = (20,10))\n",
        "plt.imshow(word_c, interpolation='bilinear')\n",
        "plt.axis(\"off\")\n",
        "plt.show()"
      ],
      "execution_count": null,
      "outputs": []
    },
    {
      "cell_type": "markdown",
      "metadata": {
        "id": "7SpTUJOdBWL7"
      },
      "source": [
        "###ENFJ"
      ]
    },
    {
      "cell_type": "code",
      "metadata": {
        "id": "8lsgcV4aL10U"
      },
      "source": [
        "enfj_d = df2[df2['type'] == \"ENFJ\"]"
      ],
      "execution_count": null,
      "outputs": []
    },
    {
      "cell_type": "code",
      "metadata": {
        "id": "N0rprjTEL10V"
      },
      "source": [
        "enfj_d = ''.join(enfj_d['posts'])"
      ],
      "execution_count": null,
      "outputs": []
    },
    {
      "cell_type": "code",
      "metadata": {
        "id": "yGjrfBZcL10W"
      },
      "source": [
        "enfj_d = enfj_d.replace(\" question \", \"\")\n",
        "enfj_d = enfj_d.replace(\" exclamation \", ' ')\n",
        "enfj_d = enfj_d.replace(\" lasting \", ' ')\n",
        "enfj_d = enfj_d.replace(\" hashtag \", ' ')\n",
        "enfj_d = enfj_d.replace(\" period \", ' ')\n",
        "enfj_d = enfj_d.replace(\"comma\", \"\")"
      ],
      "execution_count": null,
      "outputs": []
    },
    {
      "cell_type": "code",
      "metadata": {
        "id": "mMrCf2sjL10X"
      },
      "source": [
        "enfj_d"
      ],
      "execution_count": null,
      "outputs": []
    },
    {
      "cell_type": "code",
      "metadata": {
        "id": "dcvr8z14L10Y"
      },
      "source": [
        "word_c = WordCloud(max_font_size=40, max_words=150, background_color=\"white\", prefer_horizontal=0.85).generate(enfj_d)\n",
        "plt.figure(figsize = (20,10))\n",
        "plt.imshow(word_c, interpolation='bilinear')\n",
        "plt.axis(\"off\")\n",
        "plt.show()"
      ],
      "execution_count": null,
      "outputs": []
    },
    {
      "cell_type": "markdown",
      "metadata": {
        "id": "BzMqtl_T3OCE"
      },
      "source": [
        "# Conclusion\n",
        "\n",
        "\n",
        "## Important Features and Model Performance \n",
        "\n",
        "\n",
        "## Future Exploration & Next Steps\n",
        "\n"
      ]
    }
  ]
}